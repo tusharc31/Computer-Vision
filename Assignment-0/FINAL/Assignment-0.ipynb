{
 "cells": [
  {
   "cell_type": "markdown",
   "id": "68855912",
   "metadata": {},
   "source": [
    "# Assignment-1: OpenCV and Chroma Keying\n",
    "\n",
    "Name: Tushar Choudhary  \n",
    "Roll number: 2019111019"
   ]
  },
  {
   "cell_type": "markdown",
   "id": "bdd21569",
   "metadata": {},
   "source": [
    "* A description of the problem, solution, and experiments you performed.\n",
    "* Challenges you faces and learnings from the experiments.\n",
    "* Sample results (images).\n",
    "* Code if any (primarily for Chroma Keying)"
   ]
  },
  {
   "cell_type": "markdown",
   "id": "ede4f5e1",
   "metadata": {},
   "source": [
    "## Imports"
   ]
  },
  {
   "cell_type": "code",
   "execution_count": 48,
   "id": "e3ba4ff7",
   "metadata": {},
   "outputs": [],
   "source": [
    "import cv2\n",
    "import numpy as np\n",
    "import os\n",
    "from os.path import isfile, join"
   ]
  },
  {
   "cell_type": "markdown",
   "id": "6e3e5901",
   "metadata": {},
   "source": [
    "## Converting video to images\n",
    "lorem ipsum lawda lassan"
   ]
  },
  {
   "cell_type": "code",
   "execution_count": 49,
   "id": "3d5a2f72",
   "metadata": {},
   "outputs": [
    {
     "name": "stdout",
     "output_type": "stream",
     "text": [
      "\n",
      "Video source: Data/Q1.mp4\n",
      "FPS: 29.97002997002997\n",
      "Total frames: 90\n",
      "Total Duration: 3.003 seconds\n",
      "-----------------------------\n"
     ]
    }
   ],
   "source": [
    "def video_description(filename):\n",
    "    cap = cv2.VideoCapture(filename)\n",
    "    fps = cap.get(cv2.CAP_PROP_FPS)\n",
    "    frame_count = int(cap.get(cv2.CAP_PROP_FRAME_COUNT))\n",
    "    duration = frame_count/fps\n",
    "    print(f\"\\nVideo source: {filename}\")\n",
    "    print(f\"FPS: {fps}\")\n",
    "    print(f\"Total frames: {frame_count}\")\n",
    "    print(f\"Total Duration: {duration} seconds\")\n",
    "    print(f\"-----------------------------\")\n",
    "    \n",
    "video_description('Data/Q1.mp4')"
   ]
  },
  {
   "cell_type": "code",
   "execution_count": 50,
   "id": "aa6a6722",
   "metadata": {},
   "outputs": [
    {
     "name": "stdout",
     "output_type": "stream",
     "text": [
      "Directory content before conversion:\n",
      "total 8\n",
      "drwxrwxr-x 2 tusharc31 tusharc31 4096 Jan 17 19:18 .\n",
      "drwxrwxr-x 4 tusharc31 tusharc31 4096 Jan 17 19:14 ..\n",
      "\n",
      "Directory content after conversion:\n",
      "total 6848\n",
      "drwxrwxr-x 2 tusharc31 tusharc31  4096 Jan 17 19:18 .\n",
      "drwxrwxr-x 4 tusharc31 tusharc31  4096 Jan 17 19:14 ..\n",
      "-rw-rw-r-- 1 tusharc31 tusharc31 74739 Jan 17 19:18 frame10.jpg\n",
      "-rw-rw-r-- 1 tusharc31 tusharc31 74855 Jan 17 19:18 frame11.jpg\n",
      "-rw-rw-r-- 1 tusharc31 tusharc31 74293 Jan 17 19:18 frame12.jpg\n",
      "-rw-rw-r-- 1 tusharc31 tusharc31 75666 Jan 17 19:18 frame13.jpg\n",
      "-rw-rw-r-- 1 tusharc31 tusharc31 74365 Jan 17 19:18 frame14.jpg\n",
      "-rw-rw-r-- 1 tusharc31 tusharc31 74378 Jan 17 19:18 frame15.jpg\n",
      "-rw-rw-r-- 1 tusharc31 tusharc31 73940 Jan 17 19:18 frame16.jpg\n",
      "-rw-rw-r-- 1 tusharc31 tusharc31 75240 Jan 17 19:18 frame17.jpg\n",
      "-rw-rw-r-- 1 tusharc31 tusharc31 73830 Jan 17 19:18 frame18.jpg\n",
      "-rw-rw-r-- 1 tusharc31 tusharc31 74140 Jan 17 19:18 frame19.jpg\n",
      "-rw-rw-r-- 1 tusharc31 tusharc31 71888 Jan 17 19:18 frame1.jpg\n",
      "-rw-rw-r-- 1 tusharc31 tusharc31 75085 Jan 17 19:18 frame20.jpg\n",
      "-rw-rw-r-- 1 tusharc31 tusharc31 76095 Jan 17 19:18 frame21.jpg\n",
      "-rw-rw-r-- 1 tusharc31 tusharc31 75563 Jan 17 19:18 frame22.jpg\n",
      "-rw-rw-r-- 1 tusharc31 tusharc31 75439 Jan 17 19:18 frame23.jpg\n",
      "-rw-rw-r-- 1 tusharc31 tusharc31 74923 Jan 17 19:18 frame24.jpg\n",
      "-rw-rw-r-- 1 tusharc31 tusharc31 76890 Jan 17 19:18 frame25.jpg\n",
      "-rw-rw-r-- 1 tusharc31 tusharc31 75253 Jan 17 19:18 frame26.jpg\n",
      "-rw-rw-r-- 1 tusharc31 tusharc31 75354 Jan 17 19:18 frame27.jpg\n",
      "-rw-rw-r-- 1 tusharc31 tusharc31 74993 Jan 17 19:18 frame28.jpg\n",
      "-rw-rw-r-- 1 tusharc31 tusharc31 76728 Jan 17 19:18 frame29.jpg\n",
      "-rw-rw-r-- 1 tusharc31 tusharc31 72129 Jan 17 19:18 frame2.jpg\n",
      "-rw-rw-r-- 1 tusharc31 tusharc31 75303 Jan 17 19:18 frame30.jpg\n",
      "-rw-rw-r-- 1 tusharc31 tusharc31 74963 Jan 17 19:18 frame31.jpg\n",
      "-rw-rw-r-- 1 tusharc31 tusharc31 74705 Jan 17 19:18 frame32.jpg\n",
      "-rw-rw-r-- 1 tusharc31 tusharc31 76363 Jan 17 19:18 frame33.jpg\n",
      "-rw-rw-r-- 1 tusharc31 tusharc31 74905 Jan 17 19:18 frame34.jpg\n",
      "-rw-rw-r-- 1 tusharc31 tusharc31 74895 Jan 17 19:18 frame35.jpg\n",
      "-rw-rw-r-- 1 tusharc31 tusharc31 74594 Jan 17 19:18 frame36.jpg\n",
      "-rw-rw-r-- 1 tusharc31 tusharc31 76380 Jan 17 19:18 frame37.jpg\n",
      "-rw-rw-r-- 1 tusharc31 tusharc31 75438 Jan 17 19:18 frame38.jpg\n",
      "-rw-rw-r-- 1 tusharc31 tusharc31 75685 Jan 17 19:18 frame39.jpg\n",
      "-rw-rw-r-- 1 tusharc31 tusharc31 74199 Jan 17 19:18 frame3.jpg\n",
      "-rw-rw-r-- 1 tusharc31 tusharc31 75269 Jan 17 19:18 frame40.jpg\n",
      "-rw-rw-r-- 1 tusharc31 tusharc31 76963 Jan 17 19:18 frame41.jpg\n",
      "-rw-rw-r-- 1 tusharc31 tusharc31 75671 Jan 17 19:18 frame42.jpg\n",
      "-rw-rw-r-- 1 tusharc31 tusharc31 75811 Jan 17 19:18 frame43.jpg\n",
      "-rw-rw-r-- 1 tusharc31 tusharc31 75196 Jan 17 19:18 frame44.jpg\n",
      "-rw-rw-r-- 1 tusharc31 tusharc31 76797 Jan 17 19:18 frame45.jpg\n",
      "-rw-rw-r-- 1 tusharc31 tusharc31 75746 Jan 17 19:18 frame46.jpg\n",
      "-rw-rw-r-- 1 tusharc31 tusharc31 75097 Jan 17 19:18 frame47.jpg\n",
      "-rw-rw-r-- 1 tusharc31 tusharc31 75048 Jan 17 19:18 frame48.jpg\n",
      "-rw-rw-r-- 1 tusharc31 tusharc31 76541 Jan 17 19:18 frame49.jpg\n",
      "-rw-rw-r-- 1 tusharc31 tusharc31 74149 Jan 17 19:18 frame4.jpg\n",
      "-rw-rw-r-- 1 tusharc31 tusharc31 75521 Jan 17 19:18 frame50.jpg\n",
      "-rw-rw-r-- 1 tusharc31 tusharc31 76599 Jan 17 19:18 frame51.jpg\n",
      "-rw-rw-r-- 1 tusharc31 tusharc31 76439 Jan 17 19:18 frame52.jpg\n",
      "-rw-rw-r-- 1 tusharc31 tusharc31 77564 Jan 17 19:18 frame53.jpg\n",
      "-rw-rw-r-- 1 tusharc31 tusharc31 76430 Jan 17 19:18 frame54.jpg\n",
      "-rw-rw-r-- 1 tusharc31 tusharc31 76509 Jan 17 19:18 frame55.jpg\n",
      "-rw-rw-r-- 1 tusharc31 tusharc31 76215 Jan 17 19:18 frame56.jpg\n",
      "-rw-rw-r-- 1 tusharc31 tusharc31 78284 Jan 17 19:18 frame57.jpg\n",
      "-rw-rw-r-- 1 tusharc31 tusharc31 76957 Jan 17 19:18 frame58.jpg\n",
      "-rw-rw-r-- 1 tusharc31 tusharc31 77384 Jan 17 19:18 frame59.jpg\n",
      "-rw-rw-r-- 1 tusharc31 tusharc31 75553 Jan 17 19:18 frame5.jpg\n",
      "-rw-rw-r-- 1 tusharc31 tusharc31 77237 Jan 17 19:18 frame60.jpg\n",
      "-rw-rw-r-- 1 tusharc31 tusharc31 78319 Jan 17 19:18 frame61.jpg\n",
      "-rw-rw-r-- 1 tusharc31 tusharc31 76921 Jan 17 19:18 frame62.jpg\n",
      "-rw-rw-r-- 1 tusharc31 tusharc31 76924 Jan 17 19:18 frame63.jpg\n",
      "-rw-rw-r-- 1 tusharc31 tusharc31 76376 Jan 17 19:18 frame64.jpg\n",
      "-rw-rw-r-- 1 tusharc31 tusharc31 77359 Jan 17 19:18 frame65.jpg\n",
      "-rw-rw-r-- 1 tusharc31 tusharc31 75991 Jan 17 19:18 frame66.jpg\n",
      "-rw-rw-r-- 1 tusharc31 tusharc31 75664 Jan 17 19:18 frame67.jpg\n",
      "-rw-rw-r-- 1 tusharc31 tusharc31 75320 Jan 17 19:18 frame68.jpg\n",
      "-rw-rw-r-- 1 tusharc31 tusharc31 76544 Jan 17 19:18 frame69.jpg\n",
      "-rw-rw-r-- 1 tusharc31 tusharc31 74183 Jan 17 19:18 frame6.jpg\n",
      "-rw-rw-r-- 1 tusharc31 tusharc31 75761 Jan 17 19:18 frame70.jpg\n",
      "-rw-rw-r-- 1 tusharc31 tusharc31 75562 Jan 17 19:18 frame71.jpg\n",
      "-rw-rw-r-- 1 tusharc31 tusharc31 75198 Jan 17 19:18 frame72.jpg\n",
      "-rw-rw-r-- 1 tusharc31 tusharc31 76492 Jan 17 19:18 frame73.jpg\n",
      "-rw-rw-r-- 1 tusharc31 tusharc31 75687 Jan 17 19:18 frame74.jpg\n",
      "-rw-rw-r-- 1 tusharc31 tusharc31 75624 Jan 17 19:18 frame75.jpg\n",
      "-rw-rw-r-- 1 tusharc31 tusharc31 75309 Jan 17 19:18 frame76.jpg\n",
      "-rw-rw-r-- 1 tusharc31 tusharc31 76757 Jan 17 19:18 frame77.jpg\n",
      "-rw-rw-r-- 1 tusharc31 tusharc31 75815 Jan 17 19:18 frame78.jpg\n",
      "-rw-rw-r-- 1 tusharc31 tusharc31 75826 Jan 17 19:18 frame79.jpg\n",
      "-rw-rw-r-- 1 tusharc31 tusharc31 74372 Jan 17 19:18 frame7.jpg\n",
      "-rw-rw-r-- 1 tusharc31 tusharc31 75430 Jan 17 19:18 frame80.jpg\n",
      "-rw-rw-r-- 1 tusharc31 tusharc31 76698 Jan 17 19:18 frame81.jpg\n",
      "-rw-rw-r-- 1 tusharc31 tusharc31 75705 Jan 17 19:18 frame82.jpg\n",
      "-rw-rw-r-- 1 tusharc31 tusharc31 75671 Jan 17 19:18 frame83.jpg\n",
      "-rw-rw-r-- 1 tusharc31 tusharc31 75545 Jan 17 19:18 frame84.jpg\n",
      "-rw-rw-r-- 1 tusharc31 tusharc31 76496 Jan 17 19:18 frame85.jpg\n",
      "-rw-rw-r-- 1 tusharc31 tusharc31 75496 Jan 17 19:18 frame86.jpg\n",
      "-rw-rw-r-- 1 tusharc31 tusharc31 75516 Jan 17 19:18 frame87.jpg\n",
      "-rw-rw-r-- 1 tusharc31 tusharc31 74760 Jan 17 19:18 frame88.jpg\n",
      "-rw-rw-r-- 1 tusharc31 tusharc31 75170 Jan 17 19:18 frame89.jpg\n",
      "-rw-rw-r-- 1 tusharc31 tusharc31 73912 Jan 17 19:18 frame8.jpg\n",
      "-rw-rw-r-- 1 tusharc31 tusharc31 74321 Jan 17 19:18 frame90.jpg\n",
      "-rw-rw-r-- 1 tusharc31 tusharc31 75378 Jan 17 19:18 frame9.jpg\n"
     ]
    }
   ],
   "source": [
    "def convert_video_to_frames(input_path,output_path):\n",
    "    vid = cv2.VideoCapture(input_path)\n",
    "    count = 0\n",
    "    while True:\n",
    "        success, img = vid.read()\n",
    "        if success == True:\n",
    "            count = count+1\n",
    "            cv2.imwrite(output_path+\"/frame\"+str(count)+\".jpg\", img)\n",
    "        else:\n",
    "            break\n",
    "    \n",
    "!rm -rf Results/Q1/Frames/*\n",
    "print(\"Directory content before conversion:\")\n",
    "!ls -la Results/Q1/Frames\n",
    "\n",
    "convert_video_to_frames('Data/Q1.mp4','Results/Q1/Frames')\n",
    "    \n",
    "print(\"\\nDirectory content after conversion:\")\n",
    "!ls -la Results/Q1/Frames"
   ]
  },
  {
   "cell_type": "markdown",
   "id": "3bbbde35",
   "metadata": {},
   "source": [
    "## Converting images to video\n",
    "lorem ipsum lawda lassan"
   ]
  },
  {
   "cell_type": "code",
   "execution_count": 52,
   "id": "e2de9de2",
   "metadata": {
    "scrolled": false
   },
   "outputs": [
    {
     "name": "stdout",
     "output_type": "stream",
     "text": [
      "Directory content before conversion:\n",
      "total 8\n",
      "drwxrwxr-x 2 tusharc31 tusharc31 4096 Jan 17 19:19 .\n",
      "drwxrwxr-x 4 tusharc31 tusharc31 4096 Jan 17 19:14 ..\n",
      "\n",
      "Video source: ./Results/Q1/Videos/Combined-12.avi\n",
      "FPS: 12.0\n",
      "Total frames: 90\n",
      "Total Duration: 7.5 seconds\n",
      "-----------------------------\n",
      "\n",
      "Video source: ./Results/Q1/Videos/Combined-25.avi\n",
      "FPS: 25.0\n",
      "Total frames: 90\n",
      "Total Duration: 3.6 seconds\n",
      "-----------------------------\n",
      "\n",
      "Video source: ./Results/Q1/Videos/Combined-30.avi\n",
      "FPS: 30.0\n",
      "Total frames: 90\n",
      "Total Duration: 3.0 seconds\n",
      "-----------------------------\n",
      "\n",
      "Video source: ./Results/Q1/Videos/Combined-45.avi\n",
      "FPS: 45.0\n",
      "Total frames: 90\n",
      "Total Duration: 2.0 seconds\n",
      "-----------------------------\n",
      "\n",
      "Directory content after conversion:\n",
      "total 5336\n",
      "drwxrwxr-x 2 tusharc31 tusharc31    4096 Jan 17 19:19 .\n",
      "drwxrwxr-x 4 tusharc31 tusharc31    4096 Jan 17 19:14 ..\n",
      "-rw-rw-r-- 1 tusharc31 tusharc31 1363572 Jan 17 19:19 Combined-12.avi\n",
      "-rw-rw-r-- 1 tusharc31 tusharc31 1363588 Jan 17 19:19 Combined-25.avi\n",
      "-rw-rw-r-- 1 tusharc31 tusharc31 1363588 Jan 17 19:19 Combined-30.avi\n",
      "-rw-rw-r-- 1 tusharc31 tusharc31 1363602 Jan 17 19:19 Combined-45.avi\n"
     ]
    }
   ],
   "source": [
    "def convert_frames_to_video(input_path,output_path,fps):\n",
    "    frame_array = []\n",
    "    files = os.listdir(input_path)\n",
    "    files.sort(key = lambda x: int(x[5:-4]))\n",
    "    for i in range(len(files)):\n",
    "        filename = input_path + files[i]\n",
    "        img = cv2.imread(filename)\n",
    "        height, width, layers = img.shape\n",
    "        size = (width,height)\n",
    "        frame_array.append(img)\n",
    "    out = cv2.VideoWriter(output_path,cv2.VideoWriter_fourcc(*'DIVX'), fps, size)\n",
    "    for i in range(len(frame_array)):\n",
    "        out.write(frame_array[i])\n",
    "    out.release()\n",
    "\n",
    "frame_rates = [12, 25, 30, 45]\n",
    "input_path= './Results/Q1/Frames/'\n",
    "\n",
    "!rm -rf Results/Q1/Videos/*\n",
    "print(\"Directory content before conversion:\")\n",
    "!ls -la Results/Q1/Videos\n",
    "\n",
    "for fps in frame_rates:    \n",
    "    output_path = './Results/Q1/Videos/Combined-'+str(fps)+'.avi'\n",
    "    convert_frames_to_video(input_path, output_path, fps)\n",
    "    video_description(output_path)    \n",
    "    \n",
    "print(\"\\nDirectory content after conversion:\")\n",
    "!ls -la Results/Q1/Videos"
   ]
  },
  {
   "cell_type": "markdown",
   "id": "d5c9690f",
   "metadata": {},
   "source": [
    "## Capturing images from webcam\n",
    "lorem ipsum lawda lassan"
   ]
  },
  {
   "cell_type": "code",
   "execution_count": null,
   "id": "2d35e7ed",
   "metadata": {},
   "outputs": [],
   "source": []
  },
  {
   "cell_type": "markdown",
   "id": "93e99542",
   "metadata": {},
   "source": [
    "## Chroma Keying:\n",
    "lorem ipsum lawda lassan"
   ]
  },
  {
   "cell_type": "code",
   "execution_count": null,
   "id": "32a7425c",
   "metadata": {},
   "outputs": [],
   "source": []
  }
 ],
 "metadata": {
  "kernelspec": {
   "display_name": "Python 3",
   "language": "python",
   "name": "python3"
  },
  "language_info": {
   "codemirror_mode": {
    "name": "ipython",
    "version": 3
   },
   "file_extension": ".py",
   "mimetype": "text/x-python",
   "name": "python",
   "nbconvert_exporter": "python",
   "pygments_lexer": "ipython3",
   "version": "3.6.13"
  }
 },
 "nbformat": 4,
 "nbformat_minor": 5
}
